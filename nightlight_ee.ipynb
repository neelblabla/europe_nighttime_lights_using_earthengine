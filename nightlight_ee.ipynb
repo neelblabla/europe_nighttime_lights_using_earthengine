{
 "cells": [
  {
   "cell_type": "code",
   "execution_count": 1,
   "metadata": {},
   "outputs": [
    {
     "data": {
      "text/html": [
       "<p>To authorize access needed by Earth Engine, open the following\n",
       "        URL in a web browser and follow the instructions:</p>\n",
       "        <p><a href=https://code.earthengine.google.com/client-auth?scopes=https%3A//www.googleapis.com/auth/earthengine%20https%3A//www.googleapis.com/auth/devstorage.full_control&request_id=PF1XmewJ01le0u_250gNDYWXjVTPjfJ2lhkx8Tjxhh0&tc=PEB7RTOFQOMgWU984T3lXHZ0CgZ3rqXhBm2JRtnhY6Y&cc=fJ7QKEDtPI-vexLUPZBnakHYQU9rSOkUoXpRCYpuJb0>https://code.earthengine.google.com/client-auth?scopes=https%3A//www.googleapis.com/auth/earthengine%20https%3A//www.googleapis.com/auth/devstorage.full_control&request_id=PF1XmewJ01le0u_250gNDYWXjVTPjfJ2lhkx8Tjxhh0&tc=PEB7RTOFQOMgWU984T3lXHZ0CgZ3rqXhBm2JRtnhY6Y&cc=fJ7QKEDtPI-vexLUPZBnakHYQU9rSOkUoXpRCYpuJb0</a></p>\n",
       "        <p>The authorization workflow will generate a code, which you should paste in the box below.</p>\n",
       "        "
      ],
      "text/plain": [
       "<IPython.core.display.HTML object>"
      ]
     },
     "metadata": {},
     "output_type": "display_data"
    },
    {
     "name": "stdout",
     "output_type": "stream",
     "text": [
      "\n",
      "Successfully saved authorization token.\n"
     ]
    }
   ],
   "source": [
    "import ee\n",
    "ee.Authenticate()\n",
    "ee.Initialize()"
   ]
  },
  {
   "cell_type": "code",
   "execution_count": 495,
   "metadata": {},
   "outputs": [],
   "source": [
    "import geehydro\n",
    "import folium\n",
    "import pandas as pd\n",
    "import matplotlib.pyplot as plt"
   ]
  },
  {
   "cell_type": "code",
   "execution_count": 496,
   "metadata": {},
   "outputs": [],
   "source": [
    "# declare geography / the area of interest\n",
    "country = \"Germany\"\n",
    "\n",
    "countries = ee.FeatureCollection(\"USDOS/LSIB_SIMPLE/2017\")\n",
    "roi = countries.filter(ee.Filter.eq(\"country_na\", country))\n",
    "#print(f\"type of roi is {type(roi)}\")\n",
    "\n",
    "# Initiating radiance map with country boundary\n",
    "Radiance_Map = folium.Map(zoom_start=10)\n",
    "Radiance_Map.addLayer(ee.Image().paint(roi, 0, 2))\n",
    "\n",
    "Radiance_Map.centerObject(roi, 6)\n",
    "#Radiance_Map\n",
    "\n",
    "# prepare dataset from satellite for dates of interest\n",
    "dataset = ee.ImageCollection('NOAA/VIIRS/DNB/MONTHLY_V1/VCMSLCFG').filter(ee.Filter.date('2021-12-30', '2022-01-02'))\n",
    "#print(f\"type of dataset is {type(dataset)}\")\n",
    "\n",
    "#prepare sample_image data for latitude-longitude of pixels for country of interest\n",
    "latlng_sample_image = dataset.first().clip(roi)\n",
    "\n",
    "#prepare average_radiance data from mean values of pixel data for country of interest\n",
    "radiance_image = dataset.select('avg_rad').mean().clip(roi)"
   ]
  },
  {
   "cell_type": "code",
   "execution_count": 497,
   "metadata": {},
   "outputs": [
    {
     "name": "stdout",
     "output_type": "stream",
     "text": [
      "568704\n",
      "   avg_rad\n",
      "0   0.6225\n",
      "1   0.6450\n",
      "2   0.6400\n",
      "3   0.6000\n",
      "4   0.6725\n"
     ]
    }
   ],
   "source": [
    "# Extract radiance data for the image as a list of lists\n",
    "radiance_image_data = radiance_image.reduceRegion(\n",
    "    reducer=ee.Reducer.toList(), \n",
    "    geometry=roi, \n",
    "    scale=1000\n",
    ").getInfo()\n",
    "\n",
    "\n",
    "# get count of pixels under roi\n",
    "print(len(radiance_image_data['avg_rad']))\n",
    "\n",
    "radiance_values_table = pd.DataFrame(radiance_image_data)\n",
    "print(radiance_values_table.head(5))"
   ]
  },
  {
   "cell_type": "code",
   "execution_count": 498,
   "metadata": {},
   "outputs": [
    {
     "data": {
      "text/plain": [
       "568704"
      ]
     },
     "execution_count": 498,
     "metadata": {},
     "output_type": "execute_result"
    }
   ],
   "source": [
    "# Extract the longitude and latitude values for each pixel\n",
    "latlng = latlng_sample_image.pixelLonLat().reduceRegion(\n",
    "    reducer=ee.Reducer.toList(), \n",
    "    geometry=roi, \n",
    "    scale=1000\n",
    ").getInfo()\n",
    "\n",
    "# verify count of lat-long combination values to match with the pixel values\n",
    "len(latlng['latitude'])\n",
    "# len(latlng['longitude'])"
   ]
  },
  {
   "cell_type": "code",
   "execution_count": 499,
   "metadata": {},
   "outputs": [
    {
     "name": "stdout",
     "output_type": "stream",
     "text": [
      "0\n"
     ]
    }
   ],
   "source": [
    "# calculate difference in count of entries in both dataframes\n",
    "print(f\"{len(latlng['latitude']) - len(radiance_image_data['avg_rad'])}\")"
   ]
  },
  {
   "cell_type": "code",
   "execution_count": 500,
   "metadata": {},
   "outputs": [
    {
     "data": {
      "text/html": [
       "<div>\n",
       "<style scoped>\n",
       "    .dataframe tbody tr th:only-of-type {\n",
       "        vertical-align: middle;\n",
       "    }\n",
       "\n",
       "    .dataframe tbody tr th {\n",
       "        vertical-align: top;\n",
       "    }\n",
       "\n",
       "    .dataframe thead th {\n",
       "        text-align: right;\n",
       "    }\n",
       "</style>\n",
       "<table border=\"1\" class=\"dataframe\">\n",
       "  <thead>\n",
       "    <tr style=\"text-align: right;\">\n",
       "      <th></th>\n",
       "      <th>latitude</th>\n",
       "      <th>longitude</th>\n",
       "      <th>avg_rad</th>\n",
       "    </tr>\n",
       "  </thead>\n",
       "  <tbody>\n",
       "    <tr>\n",
       "      <th>0</th>\n",
       "      <td>47.273842</td>\n",
       "      <td>10.173421</td>\n",
       "      <td>0.6225</td>\n",
       "    </tr>\n",
       "    <tr>\n",
       "      <th>1</th>\n",
       "      <td>47.273842</td>\n",
       "      <td>10.182404</td>\n",
       "      <td>0.6450</td>\n",
       "    </tr>\n",
       "    <tr>\n",
       "      <th>2</th>\n",
       "      <td>47.273842</td>\n",
       "      <td>10.191387</td>\n",
       "      <td>0.6400</td>\n",
       "    </tr>\n",
       "    <tr>\n",
       "      <th>3</th>\n",
       "      <td>47.273842</td>\n",
       "      <td>10.227320</td>\n",
       "      <td>0.6000</td>\n",
       "    </tr>\n",
       "    <tr>\n",
       "      <th>4</th>\n",
       "      <td>47.273842</td>\n",
       "      <td>10.236303</td>\n",
       "      <td>0.6725</td>\n",
       "    </tr>\n",
       "    <tr>\n",
       "      <th>...</th>\n",
       "      <td>...</td>\n",
       "      <td>...</td>\n",
       "      <td>...</td>\n",
       "    </tr>\n",
       "    <tr>\n",
       "      <th>568699</th>\n",
       "      <td>55.044269</td>\n",
       "      <td>8.457638</td>\n",
       "      <td>0.2225</td>\n",
       "    </tr>\n",
       "    <tr>\n",
       "      <th>568700</th>\n",
       "      <td>55.053252</td>\n",
       "      <td>8.403739</td>\n",
       "      <td>0.3150</td>\n",
       "    </tr>\n",
       "    <tr>\n",
       "      <th>568701</th>\n",
       "      <td>55.053252</td>\n",
       "      <td>8.412723</td>\n",
       "      <td>0.3125</td>\n",
       "    </tr>\n",
       "    <tr>\n",
       "      <th>568702</th>\n",
       "      <td>55.053252</td>\n",
       "      <td>8.421706</td>\n",
       "      <td>0.2975</td>\n",
       "    </tr>\n",
       "    <tr>\n",
       "      <th>568703</th>\n",
       "      <td>55.053252</td>\n",
       "      <td>8.430689</td>\n",
       "      <td>0.3150</td>\n",
       "    </tr>\n",
       "  </tbody>\n",
       "</table>\n",
       "<p>568704 rows × 3 columns</p>\n",
       "</div>"
      ],
      "text/plain": [
       "         latitude  longitude  avg_rad\n",
       "0       47.273842  10.173421   0.6225\n",
       "1       47.273842  10.182404   0.6450\n",
       "2       47.273842  10.191387   0.6400\n",
       "3       47.273842  10.227320   0.6000\n",
       "4       47.273842  10.236303   0.6725\n",
       "...           ...        ...      ...\n",
       "568699  55.044269   8.457638   0.2225\n",
       "568700  55.053252   8.403739   0.3150\n",
       "568701  55.053252   8.412723   0.3125\n",
       "568702  55.053252   8.421706   0.2975\n",
       "568703  55.053252   8.430689   0.3150\n",
       "\n",
       "[568704 rows x 3 columns]"
      ]
     },
     "execution_count": 500,
     "metadata": {},
     "output_type": "execute_result"
    }
   ],
   "source": [
    "df_latlng = pd.DataFrame(latlng)\n",
    "#df_latlng.head(20)\n",
    "\n",
    "param_values_mapped = df_latlng\n",
    "param_values_mapped['avg_rad'] = radiance_image_data['avg_rad']\n",
    "\n",
    "param_values_mapped"
   ]
  },
  {
   "cell_type": "code",
   "execution_count": 501,
   "metadata": {},
   "outputs": [
    {
     "name": "stdout",
     "output_type": "stream",
     "text": [
      "(-0.17000000178813934, 746.8599853515625)\n",
      "1.4243848457709214\n"
     ]
    },
    {
     "data": {
      "image/png": "[encoded data removed]",
      "text/plain": [
       "<Figure size 640x480 with 1 Axes>"
      ]
     },
     "metadata": {},
     "output_type": "display_data"
    }
   ],
   "source": [
    "print(f\"({param_values_mapped['avg_rad'].min()}, {param_values_mapped['avg_rad'].max()})\")\n",
    "print(param_values_mapped['avg_rad'].mean())\n",
    "param_values_mapped['avg_rad'].plot()\n",
    "plt.show()"
   ]
  },
  {
   "cell_type": "code",
   "execution_count": 502,
   "metadata": {},
   "outputs": [
    {
     "data": {
      "text/plain": [
       "latitude     0.994975\n",
       "longitude    0.994975\n",
       "avg_rad      0.994975\n",
       "dtype: float64"
      ]
     },
     "execution_count": 502,
     "metadata": {},
     "output_type": "execute_result"
    }
   ],
   "source": [
    "#checking upper bound of 99% of the values\n",
    "param_values_mapped[param_values_mapped['avg_rad']<=20].count() / param_values_mapped['avg_rad'].count()"
   ]
  },
  {
   "cell_type": "code",
   "execution_count": 503,
   "metadata": {},
   "outputs": [
    {
     "data": {
      "text/html": [
       "<div style=\"width:100%;\"><div style=\"position:relative;width:100%;height:0;padding-bottom:60%;\"><span style=\"color:#565656\">Make this Notebook Trusted to load map: File -> Trust Notebook</span><iframe srcdoc=\"&lt;!DOCTYPE html&gt;\n",
       "&lt;head&gt;    \n",
       "    &lt;meta http-equiv=&quot;content-type&quot; content=&quot;text/html; charset=UTF-8&quot; /&gt;\n",
       "    \n",
       "        &lt;script&gt;\n",
       "            L_NO_TOUCH = false;\n",
       "            L_DISABLE_3D = false;\n",
       "        &lt;/script&gt;\n",
       "    \n",
       "    &lt;style&gt;html, body {width: 100%;height: 100%;margin: 0;padding: 0;}&lt;/style&gt;\n",
       "    &lt;style&gt;#map {position:absolute;top:0;bottom:0;right:0;left:0;}&lt;/style&gt;\n",
       "    &lt;script src=&quot;https://cdn.jsdelivr.net/npm/leaflet@1.6.0/dist/leaflet.js&quot;&gt;&lt;/script&gt;\n",
       "    &lt;script src=&quot;https://code.jquery.com/jquery-1.12.4.min.js&quot;&gt;&lt;/script&gt;\n",
       "    &lt;script src=&quot;https://maxcdn.bootstrapcdn.com/bootstrap/3.2.0/js/bootstrap.min.js&quot;&gt;&lt;/script&gt;\n",
       "    &lt;script src=&quot;https://cdnjs.cloudflare.com/ajax/libs/Leaflet.awesome-markers/2.0.2/leaflet.awesome-markers.js&quot;&gt;&lt;/script&gt;\n",
       "    &lt;link rel=&quot;stylesheet&quot; href=&quot;https://cdn.jsdelivr.net/npm/leaflet@1.6.0/dist/leaflet.css&quot;/&gt;\n",
       "    &lt;link rel=&quot;stylesheet&quot; href=&quot;https://maxcdn.bootstrapcdn.com/bootstrap/3.2.0/css/bootstrap.min.css&quot;/&gt;\n",
       "    &lt;link rel=&quot;stylesheet&quot; href=&quot;https://maxcdn.bootstrapcdn.com/bootstrap/3.2.0/css/bootstrap-theme.min.css&quot;/&gt;\n",
       "    &lt;link rel=&quot;stylesheet&quot; href=&quot;https://maxcdn.bootstrapcdn.com/font-awesome/4.6.3/css/font-awesome.min.css&quot;/&gt;\n",
       "    &lt;link rel=&quot;stylesheet&quot; href=&quot;https://cdnjs.cloudflare.com/ajax/libs/Leaflet.awesome-markers/2.0.2/leaflet.awesome-markers.css&quot;/&gt;\n",
       "    &lt;link rel=&quot;stylesheet&quot; href=&quot;https://cdn.jsdelivr.net/gh/python-visualization/folium/folium/templates/leaflet.awesome.rotate.min.css&quot;/&gt;\n",
       "    \n",
       "            &lt;meta name=&quot;viewport&quot; content=&quot;width=device-width,\n",
       "                initial-scale=1.0, maximum-scale=1.0, user-scalable=no&quot; /&gt;\n",
       "            &lt;style&gt;\n",
       "                #map_3bcfdae87a234d80148bc62765236837 {\n",
       "                    position: relative;\n",
       "                    width: 100.0%;\n",
       "                    height: 100.0%;\n",
       "                    left: 0.0%;\n",
       "                    top: 0.0%;\n",
       "                }\n",
       "            &lt;/style&gt;\n",
       "        \n",
       "    &lt;script src=&quot;https://cdnjs.cloudflare.com/ajax/libs/leaflet.fullscreen/1.4.2/Control.FullScreen.min.js&quot;&gt;&lt;/script&gt;\n",
       "    &lt;link rel=&quot;stylesheet&quot; href=&quot;https://cdnjs.cloudflare.com/ajax/libs/leaflet.fullscreen/1.4.2/Control.FullScreen.min.css&quot;/&gt;\n",
       "&lt;/head&gt;\n",
       "&lt;body&gt;    \n",
       "    \n",
       "            &lt;div class=&quot;folium-map&quot; id=&quot;map_3bcfdae87a234d80148bc62765236837&quot; &gt;&lt;/div&gt;\n",
       "        \n",
       "&lt;/body&gt;\n",
       "&lt;script&gt;    \n",
       "    \n",
       "            var map_3bcfdae87a234d80148bc62765236837 = L.map(\n",
       "                &quot;map_3bcfdae87a234d80148bc62765236837&quot;,\n",
       "                {\n",
       "                    center: [0, 0],\n",
       "                    crs: L.CRS.EPSG3857,\n",
       "                    zoom: 1,\n",
       "                    zoomControl: true,\n",
       "                    preferCanvas: false,\n",
       "                }\n",
       "            );\n",
       "\n",
       "            \n",
       "\n",
       "        \n",
       "    \n",
       "            var tile_layer_4f94333230678cf7ba98c51ed65e936b = L.tileLayer(\n",
       "                &quot;https://{s}.tile.openstreetmap.org/{z}/{x}/{y}.png&quot;,\n",
       "                {&quot;attribution&quot;: &quot;Data by \\u0026copy; \\u003ca href=\\&quot;http://openstreetmap.org\\&quot;\\u003eOpenStreetMap\\u003c/a\\u003e, under \\u003ca href=\\&quot;http://www.openstreetmap.org/copyright\\&quot;\\u003eODbL\\u003c/a\\u003e.&quot;, &quot;detectRetina&quot;: false, &quot;maxNativeZoom&quot;: 18, &quot;maxZoom&quot;: 18, &quot;minZoom&quot;: 0, &quot;noWrap&quot;: false, &quot;opacity&quot;: 1, &quot;subdomains&quot;: &quot;abc&quot;, &quot;tms&quot;: false}\n",
       "            ).addTo(map_3bcfdae87a234d80148bc62765236837);\n",
       "        \n",
       "    \n",
       "            var tile_layer_9a0dcf2a59759c77b4a384b4bc8ae86b = L.tileLayer(\n",
       "                &quot;https://earthengine.googleapis.com/v1alpha/projects/earthengine-legacy/maps/e6839ae1dc9888dbecce030b33a1d50c-b3023199436c66f3c4c1b327bae8c2e8/tiles/{z}/{x}/{y}&quot;,\n",
       "                {&quot;attribution&quot;: &quot;Google Earth Engine&quot;, &quot;detectRetina&quot;: false, &quot;maxNativeZoom&quot;: 18, &quot;maxZoom&quot;: 18, &quot;minZoom&quot;: 0, &quot;noWrap&quot;: false, &quot;opacity&quot;: 1, &quot;subdomains&quot;: &quot;abc&quot;, &quot;tms&quot;: false}\n",
       "            ).addTo(map_3bcfdae87a234d80148bc62765236837);\n",
       "        \n",
       "    \n",
       "            map_3bcfdae87a234d80148bc62765236837.fitBounds(\n",
       "                [[51.04952573474018, 10.372575736879764], [51.04952573474018, 10.372575736879764]],\n",
       "                {&quot;maxZoom&quot;: 6}\n",
       "            );\n",
       "        \n",
       "    \n",
       "            var tile_layer_a7214e9f20b04f7093939e92670b62fb = L.tileLayer(\n",
       "                &quot;https://earthengine.googleapis.com/v1alpha/projects/earthengine-legacy/maps/ec3a70d439dac0185e5893528027d6f4-337dcdefe9e9e868f30a505f08b03077/tiles/{z}/{x}/{y}&quot;,\n",
       "                {&quot;attribution&quot;: &quot;Google Earth Engine&quot;, &quot;detectRetina&quot;: false, &quot;maxNativeZoom&quot;: 18, &quot;maxZoom&quot;: 18, &quot;minZoom&quot;: 0, &quot;noWrap&quot;: false, &quot;opacity&quot;: 1, &quot;subdomains&quot;: &quot;abc&quot;, &quot;tms&quot;: false}\n",
       "            ).addTo(map_3bcfdae87a234d80148bc62765236837);\n",
       "        \n",
       "    \n",
       "            var layer_control_4a759ae55522db592f1401ea94489c88 = {\n",
       "                base_layers : {\n",
       "                    &quot;openstreetmap&quot; : tile_layer_4f94333230678cf7ba98c51ed65e936b,\n",
       "                },\n",
       "                overlays :  {\n",
       "                    &quot;Layer untitled&quot; : tile_layer_9a0dcf2a59759c77b4a384b4bc8ae86b,\n",
       "                    &quot;Nighttime&quot; : tile_layer_a7214e9f20b04f7093939e92670b62fb,\n",
       "                },\n",
       "            };\n",
       "            L.control.layers(\n",
       "                layer_control_4a759ae55522db592f1401ea94489c88.base_layers,\n",
       "                layer_control_4a759ae55522db592f1401ea94489c88.overlays,\n",
       "                {&quot;autoZIndex&quot;: true, &quot;collapsed&quot;: true, &quot;position&quot;: &quot;topright&quot;}\n",
       "            ).addTo(map_3bcfdae87a234d80148bc62765236837);\n",
       "        \n",
       "    \n",
       "            L.control.fullscreen(\n",
       "                {&quot;forceSeparateButton&quot;: false, &quot;position&quot;: &quot;topleft&quot;, &quot;title&quot;: &quot;Full Screen&quot;, &quot;titleCancel&quot;: &quot;Exit Full Screen&quot;}\n",
       "            ).addTo(map_3bcfdae87a234d80148bc62765236837);\n",
       "        \n",
       "    \n",
       "                var lat_lng_popup_1a8c4077d4caf2398eef880a83d13f1a = L.popup();\n",
       "                function latLngPop(e) {\n",
       "                    lat_lng_popup_1a8c4077d4caf2398eef880a83d13f1a\n",
       "                        .setLatLng(e.latlng)\n",
       "                        .setContent(&quot;Latitude: &quot; + e.latlng.lat.toFixed(4) +\n",
       "                                    &quot;&lt;br&gt;Longitude: &quot; + e.latlng.lng.toFixed(4))\n",
       "                        .openOn(map_3bcfdae87a234d80148bc62765236837);\n",
       "                    }\n",
       "                map_3bcfdae87a234d80148bc62765236837.on(&#x27;click&#x27;, latLngPop);\n",
       "            \n",
       "    \n",
       "            map_3bcfdae87a234d80148bc62765236837.fitBounds(\n",
       "                [[51.04952573474018, 10.372575736879764], [51.04952573474018, 10.372575736879764]],\n",
       "                {&quot;maxZoom&quot;: 4}\n",
       "            );\n",
       "        \n",
       "&lt;/script&gt;\" style=\"position:absolute;width:100%;height:100%;left:0;top:0;border:none !important;\" allowfullscreen webkitallowfullscreen mozallowfullscreen></iframe></div></div>"
      ],
      "text/plain": [
       "<folium.folium.Map at 0x7fce3ecc2c50>"
      ]
     },
     "execution_count": 503,
     "metadata": {},
     "output_type": "execute_result"
    }
   ],
   "source": [
    "nighttimeVis = {\n",
    "  'min': param_values_mapped['avg_rad'].min(),\n",
    "  'max': 20.0,\n",
    "  'palette': ['black', 'yellow', 'red']\n",
    "}\n",
    "\n",
    "# adding radiance layer on the map with only country of interest\n",
    "\n",
    "Radiance_Map.addLayer(radiance_image, nighttimeVis, 'Nighttime')\n",
    "Radiance_Map.setControlVisibility(layerControl=True, fullscreenControl=True)\n",
    "Radiance_Map.centerObject(roi, 4)\n",
    "Radiance_Map"
   ]
  }
 ],
 "metadata": {
  "kernelspec": {
   "display_name": "gee",
   "language": "python",
   "name": "python3"
  },
  "language_info": {
   "codemirror_mode": {
    "name": "ipython",
    "version": 3
   },
   "file_extension": ".py",
   "mimetype": "text/x-python",
   "name": "python",
   "nbconvert_exporter": "python",
   "pygments_lexer": "ipython3",
   "version": "3.10.6"
  },
  "orig_nbformat": 4,
  "vscode": {
   "interpreter": {
    "hash": "397b96e752c86a597c49d358dd030cf47ed9afcd0a1efaf401b6d0aba62c1fdc"
   }
  }
 },
 "nbformat": 4,
 "nbformat_minor": 2
}
